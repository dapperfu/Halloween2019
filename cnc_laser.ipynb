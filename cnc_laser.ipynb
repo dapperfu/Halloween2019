{
 "cells": [
  {
   "cell_type": "code",
   "execution_count": 6,
   "metadata": {},
   "outputs": [
    {
     "name": "stdout",
     "output_type": "stream",
     "text": [
      "The autoreload extension is already loaded. To reload it, use:\n",
      "  %reload_ext autoreload\n"
     ]
    }
   ],
   "source": [
    "# Imports and autoreload for development\n",
    "%load_ext autoreload\n",
    "%autoreload 2\n",
    "import gcode\n",
    "import grbl"
   ]
  },
  {
   "cell_type": "code",
   "execution_count": 7,
   "metadata": {},
   "outputs": [],
   "source": [
    "cnc = grbl.Grbl(port=\"/dev/ttyUSB0\")\n",
    "def init(**kwargs):\n",
    "    \"\"\"\n",
    "    Basic Machine Init.\n",
    "    \"\"\"\n",
    "    prog = gcode.GCode(**kwargs)\n",
    "    prog.G21()\n",
    "    prog.G90()\n",
    "    prog.G92(X=0, Y=0)\n",
    "    prog.G1(F=200)\n",
    "    prog.G0(F=200)\n",
    "    return prog"
   ]
  },
  {
   "cell_type": "code",
   "execution_count": 8,
   "metadata": {},
   "outputs": [
    {
     "data": {
      "text/html": [
       "<b>G</b>21<br>\n",
       "<b>G</b>90<br>\n",
       "<b>G</b>92<b>X</b>0.0<b>Y</b>0.0<br>\n",
       "<b>G</b>1<b>F</b>200.0<br>\n",
       "<b>G</b>0<b>F</b>200.0"
      ],
      "text/plain": [
       "<GCode>[cmds=5]"
      ]
     },
     "execution_count": 8,
     "metadata": {},
     "output_type": "execute_result"
    }
   ],
   "source": [
    "init()"
   ]
  },
  {
   "cell_type": "code",
   "execution_count": 11,
   "metadata": {},
   "outputs": [],
   "source": [
    "badge=init()+gcode.GCode(file=\"woody_laser_0001.ngc\")"
   ]
  },
  {
   "cell_type": "markdown",
   "metadata": {},
   "source": [
    "Repower the inkscape export"
   ]
  },
  {
   "cell_type": "code",
   "execution_count": 19,
   "metadata": {},
   "outputs": [],
   "source": [
    "for idx, line in enumerate(badge.buffer):\n",
    "    if \"S255\" in line:\n",
    "        badge.buffer[idx]=line.replace(\"S255\", \"S100\")\n",
    "    if \"F100.000000\" in line:        \n",
    "        badge.buffer[idx]=line.replace(\"F100.000000\", \"F200\")"
   ]
  },
  {
   "cell_type": "code",
   "execution_count": 20,
   "metadata": {},
   "outputs": [
    {
     "data": {
      "text/plain": [
       "'<Idle|WPos:0.000,0.000,0.000|Bf:15,127|FS:0,0|Ov:100,100,100>'"
      ]
     },
     "execution_count": 20,
     "metadata": {},
     "output_type": "execute_result"
    }
   ],
   "source": [
    "cnc.status"
   ]
  },
  {
   "cell_type": "code",
   "execution_count": 21,
   "metadata": {},
   "outputs": [
    {
     "name": "stdout",
     "output_type": "stream",
     "text": [
      "Press Enter to start aiming laser.\n",
      "Press Enter to stop aiming laser.\n"
     ]
    }
   ],
   "source": [
    "cnc.aim_laser()"
   ]
  },
  {
   "cell_type": "code",
   "execution_count": 22,
   "metadata": {},
   "outputs": [
    {
     "name": "stdout",
     "output_type": "stream",
     "text": [
      "......."
     ]
    },
    {
     "data": {
      "text/plain": [
       "209.63034391403198"
      ]
     },
     "execution_count": 22,
     "metadata": {},
     "output_type": "execute_result"
    }
   ],
   "source": [
    "cnc.run(badge)"
   ]
  },
  {
   "cell_type": "code",
   "execution_count": null,
   "metadata": {},
   "outputs": [],
   "source": []
  }
 ],
 "metadata": {
  "kernelspec": {
   "display_name": "Python 3",
   "language": "python",
   "name": "python3"
  },
  "language_info": {
   "codemirror_mode": {
    "name": "ipython",
    "version": 3
   },
   "file_extension": ".py",
   "mimetype": "text/x-python",
   "name": "python",
   "nbconvert_exporter": "python",
   "pygments_lexer": "ipython3",
   "version": "3.6.8"
  }
 },
 "nbformat": 4,
 "nbformat_minor": 2
}
